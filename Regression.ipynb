{
 "cells": [
  {
   "cell_type": "markdown",
   "id": "57e122d7-235f-415c-ae33-876a0851c49d",
   "metadata": {},
   "source": [
    "# Widgetbasierte Regressionsanwendung"
   ]
  },
  {
   "cell_type": "markdown",
   "id": "a20a031c-80c8-4098-88f5-4cf09ded995f",
   "metadata": {},
   "source": [
    "## Imports"
   ]
  },
  {
   "cell_type": "code",
   "execution_count": 1,
   "id": "79c498b1-fe48-4c36-bfa8-5544db94e08d",
   "metadata": {},
   "outputs": [],
   "source": [
    "import datetime\n",
    "import pandas as pd\n",
    "import ipywidgets as widgets"
   ]
  },
  {
   "cell_type": "code",
   "execution_count": 2,
   "id": "42cdbef3-2d8b-4710-abf6-a977ad0c7f71",
   "metadata": {},
   "outputs": [],
   "source": [
    "from sklearn.preprocessing import StandardScaler\n",
    "from sklearn.model_selection import train_test_split\n",
    "from sklearn.linear_model import LinearRegression, Lasso, Ridge"
   ]
  },
  {
   "cell_type": "code",
   "execution_count": 3,
   "id": "6a045968-d44f-4309-94e6-c80f160907dc",
   "metadata": {},
   "outputs": [],
   "source": [
    "import warnings\n",
    "from sklearn.exceptions import DataConversionWarning\n",
    "# suppress dtype conversion warnings\n",
    "warnings.filterwarnings(action='ignore', category=DataConversionWarning)"
   ]
  },
  {
   "cell_type": "markdown",
   "id": "ef072450-b56b-4979-af4c-96e0d0d83d73",
   "metadata": {},
   "source": [
    "## Data Cleaning"
   ]
  },
  {
   "cell_type": "code",
   "execution_count": 4,
   "id": "67ae48aa-2446-4ba8-8614-de9a3db71280",
   "metadata": {},
   "outputs": [],
   "source": [
    "# load data\n",
    "raw = pd.read_parquet(\"escooter_history.parquet\", engine=\"fastparquet\")\n",
    "# create working copy \n",
    "df = raw.copy()\n",
    "\n",
    "# fix data types\n",
    "df = df.astype({\n",
    "    \"holiday\": \"boolean\",\n",
    "    \"workingday\": \"boolean\",\n",
    "    \"weather\": \"category\"\n",
    "})\n",
    "# fix typo in weather\n",
    "df.weather.cat.rename_categories(\n",
    "    {\"heacy rain or thunderstorm or snow or ice pallets\": \"heavy rain or thunderstorm or snow or ice pallets\"}, inplace=True)"
   ]
  },
  {
   "cell_type": "markdown",
   "id": "0aea3d69-3e36-4638-8b16-b6a98c338c37",
   "metadata": {},
   "source": [
    "## Preprocessing Pipeline"
   ]
  },
  {
   "cell_type": "code",
   "execution_count": 5,
   "id": "c3884fa1-9461-4622-8e1d-5f909a9fe006",
   "metadata": {},
   "outputs": [],
   "source": [
    "def pipeline(raw):\n",
    "    # create working copy\n",
    "    df_linreg = raw.copy()\n",
    "    # extract weekday\n",
    "    df_linreg[\"weekday\"] = df_linreg[\"datetime\"].dt.day_name()\n",
    "    df_linreg[\"month\"] = df_linreg[\"datetime\"].dt.month_name()\n",
    "    # group by unique hour (MultiIndex of Date and Hour)\n",
    "    # preserve mode of holiday, workingday, weather, month and weekday (should change rarely or never within an hour) => little info lost\n",
    "    # calculate mean of tempeature, humidity and windspeed\n",
    "    # count number of rentals as count\n",
    "    df_linreg = df_linreg.groupby([df[\"datetime\"].dt.date, df[\"datetime\"].dt.hour]).agg(\n",
    "        {\"holiday\": pd.Series.mode, \"workingday\": pd.Series.mode, \"weather\": pd.Series.mode, \"month\": pd.Series.mode,\n",
    "         \"temp\": \"mean\", \"humidity\": \"mean\", \"windspeed\": \"mean\", \n",
    "         \"weekday\": pd.Series.mode, \"datetime\": \"count\"}).rename(columns={\"datetime\": \"count\"})\n",
    "    # drop first level of index (date) => relying on date as a feature will fail for predicting the future \n",
    "    df_linreg.reset_index(0, drop=True, inplace=True)\n",
    "    # keep second level of index as its own column\n",
    "    df_linreg.reset_index(inplace=True)\n",
    "    # rename newly created column to hour and treat as string\n",
    "    df_linreg[\"datetime\"] = df_linreg[\"datetime\"].astype(\"str\").rename(\"hour\")\n",
    "    # designate column count as label\n",
    "    label = df_linreg[\"count\"]\n",
    "    # drop count and create dummy variables for hour and day of week\n",
    "    df_linreg = pd.get_dummies(df_linreg.drop(\"count\",axis=1))\n",
    "    # return (X, y)\n",
    "    return df_linreg, label\n",
    "# run data through pipeline\n",
    "df_linreg, label = pipeline(df)\n"
   ]
  },
  {
   "cell_type": "code",
   "execution_count": 6,
   "id": "d448d19e-a47c-47d9-b780-72e345d93d5e",
   "metadata": {},
   "outputs": [],
   "source": [
    "# split into train and test set\n",
    "train_x, test_x, train_y, test_y = train_test_split(df_linreg, label, test_size=0.2, random_state=1)\n",
    "# initialize standardscaler\n",
    "scaler = StandardScaler()\n",
    "# scaler features \n",
    "train_x = scaler.fit_transform(train_x)\n",
    "test_x = scaler.transform(test_x)"
   ]
  },
  {
   "cell_type": "markdown",
   "id": "8e9c5eb2-fed6-4e29-ac45-9de87ebc55af",
   "metadata": {},
   "source": [
    "# Regression"
   ]
  },
  {
   "cell_type": "code",
   "execution_count": 7,
   "id": "de771ac7-1a27-4f7e-bc1f-a200a5c795ca",
   "metadata": {},
   "outputs": [
    {
     "data": {
      "text/plain": [
       "Ridge(alpha=5, copy_X=True, fit_intercept=True, max_iter=None,\n",
       "   normalize=False, random_state=None, solver='auto', tol=0.001)"
      ]
     },
     "execution_count": 7,
     "metadata": {},
     "output_type": "execute_result"
    }
   ],
   "source": [
    "# initalize and train Linear, Lasso and Ridge regressor\n",
    "lin = LinearRegression()\n",
    "las = Lasso(alpha=0.5)\n",
    "rid = Ridge(alpha=5)\n",
    "\n",
    "lin.fit(train_x, train_y)\n",
    "las.fit(train_x, train_y)\n",
    "rid.fit(train_x, train_y)"
   ]
  },
  {
   "cell_type": "markdown",
   "id": "abba8e13-9681-4aa0-ba34-640616486764",
   "metadata": {},
   "source": [
    "## Evaluation"
   ]
  },
  {
   "cell_type": "code",
   "execution_count": 8,
   "id": "1c782790-191f-41ea-930a-403ee2c0db6c",
   "metadata": {},
   "outputs": [
    {
     "data": {
      "text/html": [
       "<div>\n",
       "<style scoped>\n",
       "    .dataframe tbody tr th:only-of-type {\n",
       "        vertical-align: middle;\n",
       "    }\n",
       "\n",
       "    .dataframe tbody tr th {\n",
       "        vertical-align: top;\n",
       "    }\n",
       "\n",
       "    .dataframe thead th {\n",
       "        text-align: right;\n",
       "    }\n",
       "</style>\n",
       "<table border=\"1\" class=\"dataframe\">\n",
       "  <thead>\n",
       "    <tr style=\"text-align: right;\">\n",
       "      <th></th>\n",
       "      <th>linear</th>\n",
       "      <th>ridge</th>\n",
       "      <th>lasso</th>\n",
       "    </tr>\n",
       "  </thead>\n",
       "  <tbody>\n",
       "    <tr>\n",
       "      <th>0</th>\n",
       "      <td>0.637204</td>\n",
       "      <td>0.637117</td>\n",
       "      <td>0.63683</td>\n",
       "    </tr>\n",
       "  </tbody>\n",
       "</table>\n",
       "</div>"
      ],
      "text/plain": [
       "     linear     ridge    lasso\n",
       "0  0.637204  0.637117  0.63683"
      ]
     },
     "execution_count": 8,
     "metadata": {},
     "output_type": "execute_result"
    }
   ],
   "source": [
    "# save scores in DataFrame\n",
    "scores =  pd.DataFrame({\"linear\": lin.score(test_x, test_y), \n",
    "                        \"ridge\": rid.score(test_x, test_y), \n",
    "                        \"lasso\": las.score(test_x, test_y)}, index=[0])\n",
    "# save coefficients in DataFrame\n",
    "coefs = pd.DataFrame({\"feature\": df_linreg.columns, \n",
    "                      \"linear coefficients\": lin.coef_, \n",
    "                      \"ridge coefficients\": rid.coef_, \n",
    "                      \"lasso coefficients\": las.coef_})\n",
    "\n",
    "scores # display scores"
   ]
  },
  {
   "cell_type": "code",
   "execution_count": 9,
   "id": "c94fa03c-9666-4887-806b-00f1d4a0e282",
   "metadata": {},
   "outputs": [],
   "source": [
    "#coefs # uncomment to display coefficients"
   ]
  },
  {
   "cell_type": "markdown",
   "id": "7e4392e3-192c-4023-b0c6-fd250eee474e",
   "metadata": {},
   "source": [
    "## Interaktive Anwendung"
   ]
  },
  {
   "cell_type": "code",
   "execution_count": 10,
   "id": "1433148b-6243-4589-ab7f-af164c788666",
   "metadata": {},
   "outputs": [
    {
     "data": {
      "application/vnd.jupyter.widget-view+json": {
       "model_id": "053ec69360d14b97aa8a354f26977cb1",
       "version_major": 2,
       "version_minor": 0
      },
      "text/plain": [
       "HBox(children=(DatePicker(value=datetime.datetime(2021, 11, 13, 21, 25, 44, 529391), description='Datum:'), In…"
      ]
     },
     "metadata": {},
     "output_type": "display_data"
    },
    {
     "data": {
      "application/vnd.jupyter.widget-view+json": {
       "model_id": "d9ea9ebcbd434cd480f4b8ebcee4896c",
       "version_major": 2,
       "version_minor": 0
      },
      "text/plain": [
       "HBox(children=(Checkbox(value=False, description='Ist Feiertag'), Checkbox(value=False, description='Ist Arbei…"
      ]
     },
     "metadata": {},
     "output_type": "display_data"
    },
    {
     "data": {
      "application/vnd.jupyter.widget-view+json": {
       "model_id": "c8871424df6d48c28af979293b6db3f1",
       "version_major": 2,
       "version_minor": 0
      },
      "text/plain": [
       "Dropdown(description='Wetter:', options=('clear, few clouds', 'cloudy, mist', 'light snow or rain or thunderst…"
      ]
     },
     "metadata": {},
     "output_type": "display_data"
    },
    {
     "data": {
      "application/vnd.jupyter.widget-view+json": {
       "model_id": "dec2667dc80542488810edce39666fab",
       "version_major": 2,
       "version_minor": 0
      },
      "text/plain": [
       "HBox(children=(FloatSlider(value=0.0, description='Termperatur:', max=50.0), FloatSlider(value=0.0, descriptio…"
      ]
     },
     "metadata": {},
     "output_type": "display_data"
    },
    {
     "data": {
      "application/vnd.jupyter.widget-view+json": {
       "model_id": "d5f53555e15c492eadf8289ecfa8d911",
       "version_major": 2,
       "version_minor": 0
      },
      "text/plain": [
       "Button(description='Treffe Vorhersage', layout=Layout(left='40%'), style=ButtonStyle())"
      ]
     },
     "metadata": {},
     "output_type": "display_data"
    },
    {
     "data": {
      "application/vnd.jupyter.widget-view+json": {
       "model_id": "8c3f9d7acf0c437283f4160844d5374b",
       "version_major": 2,
       "version_minor": 0
      },
      "text/plain": [
       "Label(value='Regressionsergebnisse:')"
      ]
     },
     "metadata": {},
     "output_type": "display_data"
    }
   ],
   "source": [
    "# create widgets for date and time selection\n",
    "date = widgets.DatePicker(description=\"Datum:\", value=datetime.datetime.now())\n",
    "hour = widgets.IntSlider(min=0,max=23,description=\"Stunde:\")\n",
    "# group in Horiontalbox => display next to each other\n",
    "datetime_box = widgets.HBox([date, hour])\n",
    "\n",
    "# create check boxes for holiday and workingday toggle\n",
    "holiday = widgets.Checkbox(value=False,description='Ist Feiertag')\n",
    "workingday = widgets.Checkbox(value=False,description='Ist Arbeitstag')\n",
    "# group in Horiontalbox => display next to each other\n",
    "work_box = widgets.HBox([holiday, workingday])\n",
    "\n",
    "# create dropdown for weather category\n",
    "weather = widgets.Dropdown(options=df[\"weather\"].unique(),description='Wetter:')\n",
    "\n",
    "# create sliders for temperature, humidity and windspeed\n",
    "temperature = widgets.FloatSlider(min=0, max=50, description=\"Termperatur:\")\n",
    "humidity = widgets.FloatSlider(min=0, max=100, description=\"Luftfeuchtigkeit:\")\n",
    "windspeed = widgets.FloatSlider(min=0, max=100, description=\"Windgeschwindkeit:\")\n",
    "# group in Horiontalbox => display next to each other\n",
    "weather_box = widgets.HBox([temperature, humidity, windspeed])\n",
    "\n",
    "# create submit button and label that displays results\n",
    "predict_button = widgets.Button(description=\"Treffe Vorhersage\", layout=widgets.Layout(left=\"40%\"))\n",
    "prediction = widgets.Label(value=\"Regressionsergebnisse:\")\n",
    "\n",
    "# display all widgets\n",
    "display(datetime_box)\n",
    "display(work_box)\n",
    "display(weather)\n",
    "display(weather_box)\n",
    "display(predict_button, prediction)\n",
    "\n",
    "def check_bounds(pred):\n",
    "    return min(2000, max(0, round(pred, 1)))\n",
    "\n",
    "def predict(ref_to_caller):\n",
    "    prediction.value=\"Regressionsergebnisse: Berechne...\"\n",
    "    # collect wigdet values in dataframe\n",
    "    df_input = pd.DataFrame({\"datetime\":datetime.datetime.combine(date.value, datetime.time(hour.value)),\n",
    "                             \"holiday\":holiday.value,\n",
    "                             \"workingday\":workingday.value,\n",
    "                             \"weather\":weather.value,\n",
    "                             \"temp\":temperature.value,\n",
    "                             \"humidity\":humidity.value,\n",
    "                             \"windspeed\":windspeed.value\n",
    "                            }, index=[0])\n",
    "    # run through pipeline, only select first value in tuple, as label can be discarded\n",
    "    df_input = pipeline(df_input)[0]\n",
    "    # concatenate to original train_data for consistency in dummy variables, fill null values\n",
    "    # then select last row (df_input but now as vector with correct dimensions)\n",
    "    df_input = pd.concat([df_linreg, df_input]).fillna(0).tail(1)\n",
    "    # scale features\n",
    "    scaled = scaler.transform(df_input)\n",
    "    # run regression and display scores (if infeasible, display bounds [0,2000])\n",
    "    prediction.value=f\"Regressionsergebnisse: linear: {check_bounds(lin.predict(scaled)[0])} | ridge: {check_bounds(rid.predict(scaled)[0])} | lasso: {check_bounds(las.predict(scaled)[0])}\"\n",
    "\n",
    "# link event handler to button\n",
    "predict_button.on_click(predict)"
   ]
  },
  {
   "cell_type": "code",
   "execution_count": null,
   "id": "0f03e3ae-f2fd-4016-8d8b-9711f5ce27f4",
   "metadata": {},
   "outputs": [],
   "source": []
  }
 ],
 "metadata": {
  "kernelspec": {
   "display_name": "Python 3 (ipykernel)",
   "language": "python",
   "name": "python3"
  },
  "language_info": {
   "codemirror_mode": {
    "name": "ipython",
    "version": 3
   },
   "file_extension": ".py",
   "mimetype": "text/x-python",
   "name": "python",
   "nbconvert_exporter": "python",
   "pygments_lexer": "ipython3",
   "version": "3.7.11"
  }
 },
 "nbformat": 4,
 "nbformat_minor": 5
}
